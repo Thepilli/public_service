{
 "cells": [
  {
   "cell_type": "code",
   "execution_count": null,
   "metadata": {},
   "outputs": [],
   "source": [
    "import requests\n",
    "\n",
    "# URL of the JSON data\n",
    "url = 'https://zpravy.udhpsh.cz/zpravy/vfz2022.json'\n",
    "\n",
    "# Fetch the data from the URL\n",
    "response = requests.get(url)\n",
    "\n",
    "# Check if the request was successful\n",
    "if response.status_code == 200:\n",
    "    # Extract the JSON data\n",
    "    data = response.json()\n",
    "    print(data)\n",
    "else:\n",
    "    print(f\"Failed to retrieve data: {response.status_code}\")"
   ]
  },
  {
   "cell_type": "code",
   "execution_count": null,
   "metadata": {},
   "outputs": [],
   "source": [
    "import pandas as pd\n",
    "# Flatten only the 'parties' part of the JSON response\n",
    "parties_data = data['parties']\n",
    "# Flatten the JSON response\n",
    "flattened_data = pd.json_normalize(parties_data,record_path=['files'])\n",
    "print(flattened_data)"
   ]
  },
  {
   "cell_type": "code",
   "execution_count": null,
   "metadata": {},
   "outputs": [],
   "source": [
    "# Extract the required information for each party\n",
    "party_data = []\n",
    "for party in data['parties']:\n",
    "    party_key = party.get('shortName', 'Unknown')  # Use shortName as key if available\n",
    "    party_ic = party['ic']\n",
    "    for file in party['files']:\n",
    "        file_subject = file['subject']\n",
    "        file_url = file['url']\n",
    "        party_data.append({\n",
    "            'Party Key': party_key,\n",
    "            'IC': party_ic,\n",
    "            'Subject': file_subject,\n",
    "            'URL': file_url\n",
    "        })\n",
    "# Create a DataFrame from the extracted data\n",
    "df = pd.DataFrame(party_data)\n",
    "print(df)"
   ]
  },
  {
   "cell_type": "code",
   "execution_count": null,
   "metadata": {},
   "outputs": [],
   "source": [
    "for party in data['parties']:\n",
    "    ic = party.get('ic', 'N/A')\n",
    "    json_files_count = sum(1 for file in party.get('files', []) if file.get('format') == 'json')\n",
    "    print(f\"IC: {ic}, JSON Files Count: {json_files_count}\")"
   ]
  },
  {
   "cell_type": "code",
   "execution_count": 10,
   "metadata": {},
   "outputs": [
    {
     "name": "stdout",
     "output_type": "stream",
     "text": [
      "13040\n"
     ]
    }
   ],
   "source": [
    "import requests\n",
    "import json\n",
    "import pandas as pd\n",
    "\n",
    "# List of years\n",
    "years = [2017, 2018, 2019, 2020, 2021, 2022, 2023]\n",
    "\n",
    "# Initialize an empty list to store the extracted data\n",
    "extracted_data = []\n",
    "\n",
    "# Loop through each year\n",
    "for year in years:\n",
    "    # URL of the JSON data\n",
    "    url = f'https://zpravy.udhpsh.cz/export/vfz{year}-index.json'\n",
    "\n",
    "    # Send a GET request to the URL\n",
    "    response = requests.get(url)\n",
    "\n",
    "    # Check if the request was successful\n",
    "    if response.status_code == 200:\n",
    "        # Parse the JSON data\n",
    "        data = response.json()\n",
    "\n",
    "        # Extract relevant data\n",
    "        for party in data['parties']:\n",
    "            for file in party['files']:\n",
    "                extracted_data.append({\n",
    "                    'year': year,\n",
    "                    'key': data['election']['key'],\n",
    "                    'ic': party['ic'],\n",
    "                    'subject': file['subject'],\n",
    "                    'url': file['url']\n",
    "                })\n",
    "    else:\n",
    "        print(f\"Failed to retrieve data for year {year}: {response.status_code}\")\n",
    "\n",
    "# Create DataFrame\n",
    "df = pd.DataFrame(extracted_data)\n",
    "\n",
    "# Print the DataFrame\n",
    "print(len(df))"
   ]
  },
  {
   "cell_type": "code",
   "execution_count": 11,
   "metadata": {},
   "outputs": [],
   "source": [
    "df_cprijmy = df[df['subject'] == 'cprijmy']\n",
    "df_cvydaje = df[df['subject'] == 'cvydaje']\n",
    "df_zamest = df[df['subject'] == 'zamest']\n",
    "df_polinst = df[df['subject'] == 'polinst']\n",
    "df_podil = df[df['subject'] == 'podil']\n",
    "df_penizefo = df[df['subject'] == 'penizefo']\n",
    "df_bupfo = df[df['subject'] == 'bupfo']\n",
    "df_penizepo = df[df['subject'] == 'penizepo']\n",
    "df_buppo = df[df['subject'] == 'buppo']\n",
    "df_dluhy = df[df['subject'] == 'dluhy']\n",
    "df_dedictvi = df[df['subject'] == 'dedictvi']\n",
    "df_clenove = df[df['subject'] == 'clenove']\n"
   ]
  },
  {
   "cell_type": "code",
   "execution_count": 15,
   "metadata": {},
   "outputs": [],
   "source": [
    "df_head = df_zamest.head(200)"
   ]
  },
  {
   "cell_type": "code",
   "execution_count": null,
   "metadata": {},
   "outputs": [],
   "source": [
    "print(df_head)"
   ]
  },
  {
   "cell_type": "code",
   "execution_count": 16,
   "metadata": {},
   "outputs": [
    {
     "name": "stderr",
     "output_type": "stream",
     "text": [
      "C:\\Users\\jirip\\AppData\\Local\\Temp\\ipykernel_17004\\4171123923.py:11: SettingWithCopyWarning: \n",
      "A value is trying to be set on a copy of a slice from a DataFrame.\n",
      "Try using .loc[row_indexer,col_indexer] = value instead\n",
      "\n",
      "See the caveats in the documentation: https://pandas.pydata.org/pandas-docs/stable/user_guide/indexing.html#returning-a-view-versus-a-copy\n",
      "  df_head['json_response'] = df_head['url'].apply(fetch_json)\n"
     ]
    }
   ],
   "source": [
    "def fetch_json(url):\n",
    "    try:\n",
    "        response = requests.get(url)\n",
    "        response.raise_for_status()  # Raise an HTTPError for bad responses\n",
    "        return response.json()  # Return parsed JSON\n",
    "    except requests.exceptions.RequestException as e:\n",
    "        print(f\"Error fetching URL {url}: {e}\")\n",
    "        return None  # Return None in case of error\n",
    "\n",
    "# Fetch JSON for each URL and store it in a new column\n",
    "df_head['json_response'] = df_head['url'].apply(fetch_json)\n",
    "df_head.to_csv('financovani.csv', index=False)"
   ]
  },
  {
   "cell_type": "code",
   "execution_count": null,
   "metadata": {},
   "outputs": [],
   "source": []
  },
  {
   "cell_type": "code",
   "execution_count": 17,
   "metadata": {},
   "outputs": [
    {
     "name": "stdout",
     "output_type": "stream",
     "text": [
      "     year        ic                                              job  number\n",
      "0    2017  05402450                                   administrativa     2.0\n",
      "1    2017  04627695                                              NaN     NaN\n",
      "2    2017  71443339  krajský manažer - průměrný přepočtený stav 2017     8.0\n",
      "3    2017  71443339         asistent - průměrný přepočtený stav 2017     3.0\n",
      "4    2017  71443339   PR specialista - průměrný přepočtený stav 2017     1.0\n",
      "..    ...       ...                                              ...     ...\n",
      "254  2018  26595940                                              NaN     NaN\n",
      "255  2018  27026922                                              NaN     NaN\n",
      "256  2018  06695205                                              NaN     NaN\n",
      "257  2018  71339485                                              NaN     NaN\n",
      "258  2018  70869553                                              NaN     NaN\n",
      "\n",
      "[259 rows x 4 columns]\n"
     ]
    }
   ],
   "source": [
    "# Step 1: Expand the JSON into a tabular format\n",
    "exploded_df = df_head.explode('json_response')\n",
    "\n",
    "# Step 2: Normalize the JSON data\n",
    "expanded_df = pd.json_normalize(exploded_df['json_response'])\n",
    "\n",
    "# Add meaningful context from the original DataFrame\n",
    "result_df = exploded_df[['year',  'ic']].reset_index(drop=True)\n",
    "result_df = pd.concat([result_df, expanded_df], axis=1)\n",
    "\n",
    "print(result_df)"
   ]
  },
  {
   "cell_type": "code",
   "execution_count": null,
   "metadata": {},
   "outputs": [],
   "source": [
    "import requests\n",
    "from tqdm import tqdm\n",
    "\n",
    "def fetch_json(url):\n",
    "    try:\n",
    "        response = requests.get(url)\n",
    "        response.raise_for_status()  # Raise an HTTPError for bad responses\n",
    "        return response.json()  # Return parsed JSON\n",
    "    except requests.exceptions.RequestException as e:\n",
    "        print(f\"Error fetching URL {url}: {e}\")\n",
    "        return None  # Return None in case of error\n",
    "\n",
    "# Fetch JSON for each URL and store it in a new column with a progress bar\n",
    "df['json_response'] = df['url'].apply(lambda url: fetch_json(url))\n",
    "\n",
    "# Using tqdm to display progress\n",
    "for url in tqdm(df['url']):\n",
    "    df.loc[df['url'] == url, 'json_response'] = fetch_json(url)"
   ]
  },
  {
   "cell_type": "code",
   "execution_count": null,
   "metadata": {},
   "outputs": [],
   "source": [
    "unique_subjects = df['subject'].unique()\n",
    "print(unique_subjects)"
   ]
  },
  {
   "cell_type": "code",
   "execution_count": null,
   "metadata": {},
   "outputs": [],
   "source": [
    "\n",
    "subject_dfs = {subject: df[df['subject'] == subject] for subject in unique_subjects}\n",
    "\n",
    "\n",
    "# Print the first few rows of each DataFrame to verify\n",
    "for subject, subject_df in subject_dfs.items():\n",
    "    print(f\"Subject: {subject}\")\n",
    "    print(subject_df.head(), \"\\n\")"
   ]
  },
  {
   "cell_type": "code",
   "execution_count": null,
   "metadata": {},
   "outputs": [],
   "source": [
    "for subject, subject_df in subject_dfs.items():\n",
    "    filename = f\"financovani_{subject}.csv\"\n",
    "    subject_df.to_csv(filename, index=False)\n",
    "    print(f\"Saved {filename}\")"
   ]
  }
 ],
 "metadata": {
  "kernelspec": {
   "display_name": "Python 3",
   "language": "python",
   "name": "python3"
  },
  "language_info": {
   "codemirror_mode": {
    "name": "ipython",
    "version": 3
   },
   "file_extension": ".py",
   "mimetype": "text/x-python",
   "name": "python",
   "nbconvert_exporter": "python",
   "pygments_lexer": "ipython3",
   "version": "3.12.2"
  }
 },
 "nbformat": 4,
 "nbformat_minor": 2
}

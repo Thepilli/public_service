{
 "cells": [
  {
   "cell_type": "code",
   "execution_count": 40,
   "metadata": {},
   "outputs": [
    {
     "name": "stdout",
     "output_type": "stream",
     "text": [
      "13040\n"
     ]
    }
   ],
   "source": [
    "import requests\n",
    "import json\n",
    "import pandas as pd\n",
    "\n",
    "# List of years\n",
    "years = [2017, 2018, 2019, 2020, 2021, 2022, 2023]\n",
    "\n",
    "# Initialize an empty list to store the extracted data\n",
    "extracted_data = []\n",
    "party_data = []\n",
    "\n",
    "# Loop through each year\n",
    "for year in years:\n",
    "    # URL of the JSON data\n",
    "    url = f'https://zpravy.udhpsh.cz/export/vfz{year}-index.json'\n",
    "\n",
    "    # Send a GET request to the URL\n",
    "    response = requests.get(url)\n",
    "\n",
    "    # Check if the request was successful\n",
    "    if response.status_code == 200:\n",
    "        # Parse the JSON data\n",
    "        data = response.json()\n",
    "\n",
    "        # Extract relevant data\n",
    "        for party in data['parties']:\n",
    "            for file in party['files']:\n",
    "                extracted_data.append({\n",
    "                    'year': year,\n",
    "                    'key': data['election']['key'],\n",
    "                    'ic': party['ic'],\n",
    "                    'subject': file['subject'],\n",
    "                    'url': file['url']\n",
    "                })\n",
    "                party_data.append({\n",
    "                    'ic': party['ic'],\n",
    "                    'shortName': party['shortName'],\n",
    "                    'longName': party['longName']\n",
    "\n",
    "                })\n",
    "                \n",
    "    else:\n",
    "        print(f\"Failed to retrieve data for year {year}: {response.status_code}\")\n",
    "\n",
    "# Create DataFrame\n",
    "df = pd.DataFrame(extracted_data)\n",
    "df_party = pd.DataFrame(party_data).drop_duplicates(subset=['ic'])\n",
    "df_party.to_csv('D_party.csv', index=False)\n",
    "# Print the DataFrame\n",
    "print(len(df))"
   ]
  },
  {
   "cell_type": "code",
   "execution_count": null,
   "metadata": {},
   "outputs": [],
   "source": [
    "df_cprijmy = df[df['subject'] == 'cprijmy']\n",
    "df_cvydaje = df[df['subject'] == 'cvydaje']\n",
    "df_zamest = df[df['subject'] == 'zamest']\n",
    "df_polinst = df[df['subject'] == 'polinst']\n",
    "df_podil = df[df['subject'] == 'podil']\n",
    "df_penizefo = df[df['subject'] == 'penizefo']\n",
    "df_bupfo = df[df['subject'] == 'bupfo']\n",
    "df_penizepo = df[df['subject'] == 'penizepo']\n",
    "df_buppo = df[df['subject'] == 'buppo']\n",
    "df_dluhy = df[df['subject'] == 'dluhy']\n",
    "df_dedictvi = df[df['subject'] == 'dedictvi']\n",
    "df_clenove = df[df['subject'] == 'clenove']\n"
   ]
  },
  {
   "cell_type": "code",
   "execution_count": null,
   "metadata": {},
   "outputs": [],
   "source": [
    "subjects = [\n",
    "df_cprijmy,\n",
    "df_cvydaje,\n",
    "df_zamest,\n",
    "df_podil,\n",
    "df_penizefo,\n",
    "df_penizepo,\n",
    "# df_polinst,\n",
    "# df_bupfo,\n",
    "# df_buppo,\n",
    "# df_dluhy,\n",
    "# df_dedictvi,\n",
    "# df_clenove,\n",
    "]"
   ]
  },
  {
   "cell_type": "code",
   "execution_count": null,
   "metadata": {},
   "outputs": [],
   "source": [
    "def fetch_json(url):\n",
    "    try:\n",
    "        response = requests.get(url)\n",
    "        response.raise_for_status()  # Raise an HTTPError for bad responses\n",
    "        return response.json()  # Return parsed JSON\n",
    "    except requests.exceptions.RequestException as e:\n",
    "        print(f\"Error fetching URL {url}: {e}\")\n",
    "        return None  # Return None in case of error\n",
    "\n",
    "# Fetch JSON for each URL and store it in a new column\n",
    "# df_head['json_response'] = df_head['url'].apply(fetch_json)\n",
    "# df_head.to_csv('financovani.csv', index=False)"
   ]
  },
  {
   "cell_type": "code",
   "execution_count": null,
   "metadata": {},
   "outputs": [],
   "source": [
    "for subject in subjects:\n",
    "    subject['json_response'] = subject['url'].apply(fetch_json)\n",
    "    subject.to_csv(f'{subject.iloc[0][\"subject\"]}.csv', index=False, encoding='utf-8')\n",
    "    print(f'{subject.iloc[0][\"subject\"]} done')\n",
    "    \n",
    "    # Step 1: Expand the JSON into a tabular format\n",
    "    exploded_df = subject.explode('json_response')\n",
    "\n",
    "    # Step 2: Normalize the JSON data\n",
    "    expanded_df = pd.json_normalize(exploded_df['json_response'])\n",
    "\n",
    "    # Add meaningful context from the original DataFrame\n",
    "    result_df = exploded_df[['year',  'ic']].reset_index(drop=True)\n",
    "    result_df = pd.concat([result_df, expanded_df], axis=1)\n",
    "    result_df.to_csv(f'/Users/zackrawr/Developer/Python_WS/public_service/CURATED/{subject.iloc[0][\"subject\"]}.csv', index=False, encoding='utf-8')\n",
    "    print(f'{subject.iloc[0][\"subject\"]} done in curated')\n"
   ]
  },
  {
   "cell_type": "code",
   "execution_count": 43,
   "metadata": {},
   "outputs": [],
   "source": [
    "zamestnanci = pd.read_csv('/Users/zackrawr/Developer/Python_WS/public_service/CURATED/zamest.csv')"
   ]
  },
  {
   "cell_type": "code",
   "execution_count": null,
   "metadata": {},
   "outputs": [
    {
     "name": "stdout",
     "output_type": "stream",
     "text": [
      "{'Právník - přepočteno na FTE', 'Tiskový mluvčí', 'Krajský manažer', 'Administrativní činnosti', 'archivář', 'Asistent generálního sekretáře', 'vedení účetnictví', 'asistent - průměrný přepočtený stav 2019', 'Tisková mluvčí', 'Administrativní práce - zaokrouhlené přepočtené úvazky 2019', 'Mediální služby', 'provozní agenda hnutí', 'Dohoda o provedení práce - administrativní práce', 'DPP - účetní', 'Vedoucí zaměstnanci', 'DPP - IT služby', 'analytik', 'administrativní podpora', 'Expertizy a analýzy', 'Hlavní pokladník', 'Krajský tajemník a organizační pracovník', 'PR specialita', 'Mediace a koordinace', 'DPČ administrativa 1-5/2019', 'BOZP expert', 'tiskový mluvčí', 'pomocník v kampani', 'Tiskový mluvčí, koordinátor tiskového úseku', 'specialista pro regiony - průměrný přepočtený stav 2018', 'Organizační práce v ústředí', 'politický pracovník/pracovnice', 'technicko-hospodářský pracovník', 'Natáčení filmových spotů', 'krajský manažer - průměrný přepočtený stav 2017', 'hospodářský pracovník/pracovnice', 'krajský manažer-průměrný přepočtený stav 2019', 'Fotograf', 'hospodářsdký pracovník/pracovnice', 'Promotér', 'asistent - průměrný přepočtený stav 2018', 'generální sekretář', 'Technické a provozní práce', 'Specialista vnitřní legislativy', 'administrativní práce', 'Ekonomická činnost', 'řízení hnutí', 'copywriting', 'specialista pro regiony - průměrný přepočtený stav 2017', 'Manažerské práce v senátní kampani MUDr. Marka Slabého - 68 hod., DPP', 'Ústřední tajemník', 'Organizační práce v území', 'administrativa - DPČ - zam. malého rozsahu', 'Dohoda o provedení práce, administrativa', 'Administrativní a propagační činnost', 'Korektor textů', 'Marketingový specialista, grafik, fotograf a kameraman', 'administrativa', 'PR specialista - průměrný přepočtený stav 2019', 'Koordinace administrace a komunikace', 'Mzdová účetní a personalista', 'Zahraniční tajemník', 'DPP - správa a tvorba marketingových a FB příspěvků', 'specialista vnitřní legislativy - průměrný přepočtený stav 2017', 'účetní', 'dohoda o provedení práce', 'Právník', 'Účetní', 'politický pracovník/poracovnice', 'Office manažer', 'Poradce', 'Hlavní pokladník a nákupčí', 'Volební koordinátor', 'Krajský tajemník', 'Organizační pracovník', 'administrativní', 'DPP', 'THP práce', 'Správce sociálních sítí', 'administrativa (05-09/2022)', 'Roznos letáků, dohoda o provedení práce v předvolební kampani 2021', 'politický pracovník', 'Grafický designer, fotograf', 'Správa webových stránek', 'Činnost tajemníka polit.hnutí Východočeši', 'administrativní činnost', 'Předseda', 'Administrátor', 'Roznos letáků a další volební výpomoc', 'organizační práce v ústředí', 'specialista pro regiony - průměrný přepočtený stav 2019', 'Analytické a PR práce', 'PR specialista - průměrný přepočtený stav 2017', 'úpravy na webu, facabooku', 'Ředitelka', 'PR specialista - průměrný přepočtený stav 2018', 'Volební manažer', 'Příprava textových podkladů a rešerší', 'Administrativní', 'technicko-hospodáský pracovník', 'provoz webových stránek', 'Administrativní práce pro klub HNHRM Děčín', 'ekonomický ředitel', 'Asistent', 'Administrativní činnost (dohoda o provedení práce)', 'Příprava a korekce textů a materiálů', 'Personalista a účetní', 'Administrativní pracovník', 'asistent', 'krajský manažer - průměrný přepočtený stav 2018', 'organizační práce v území', 'koordinátor', 'odborný pracovník', 'Dohoda o provedení práce', 'Volební manager', 'hlavní pracovní poměr', 'Správa profilu na facebooku', 'Administrativa', 'Statutární místopředseda', 'Analytik', 'Asistent předsedy', 'Administrativní činnost', 'hlavní manažer', 'Účetnictví - dohoda', 'ústřední tajemník', 'organizační činnost', 'Dohoda o provedení práce v 08 - 09/2018  - volby Senát', 'Administrativní práce', 'Správa sociálních sítí', 'Koordinátor tiskového úseku', 'Krajský manažer a organizační pracovník', 'Administrativní práce od 1.11. do 31.12.2017', 'poradce', 'asistent - průměrný přepočtený stav 2017', 'referent pro digitální kanály - průměrný přepočtený stav 2017', 'specialista vniřní legislativy - průměrný přepočtený stav 2019', 'Výkon volební kampaně', 'Mediální činnost', 'Činnost tajemníka politického hnutí Východočeši', 'Korektor', 'Zdravotník', 'specialista vnitřní legislativy - průměrný přepočtený stav 2018', 'odborný pracovník/pracovnice', 'Předsedkyně klubu krajských zastupitelů', 'Manažer', 'manažer politického hnutí', nan, 'Administrativní práce - přepočteno na FTE a zaokrouhleno', 'Hosteska', 'Technická správa', 'dobrovolnická práce', 'Generální sekretář', 'Řidič autobusu', 'Řidič', 'Specialista sociálních sítí', 'Administrativní pracovník (přepočteno na FTE a zaokrouhleno)', 'Dohoda o provedení práce - Správa webu a sítí', 'Archivář', 'Mediální asistent', 'Informatik', 'Administraivní práce', 'Konzultace a zajišťování PR výstupů, marketingové konzultace', 'Účetní a ekonomické práce', 'Plnění úkolů spojených s činností tajemníka polit.hnutí Východočeši', 'Analytická činnost', 'roznos letáků', 'tajemnice', 'Úklid', 'Mediace'}\n"
     ]
    }
   ],
   "source": []
  }
 ],
 "metadata": {
  "kernelspec": {
   "display_name": "Python 3",
   "language": "python",
   "name": "python3"
  },
  "language_info": {
   "codemirror_mode": {
    "name": "ipython",
    "version": 3
   },
   "file_extension": ".py",
   "mimetype": "text/x-python",
   "name": "python",
   "nbconvert_exporter": "python",
   "pygments_lexer": "ipython3",
   "version": "3.13.0"
  }
 },
 "nbformat": 4,
 "nbformat_minor": 2
}
